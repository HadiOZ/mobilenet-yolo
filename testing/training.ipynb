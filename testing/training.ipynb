{
 "cells": [
  {
   "cell_type": "code",
   "execution_count": 102,
   "metadata": {},
   "outputs": [],
   "source": [
    "import numpy as np\n",
    "import tensorflow as tf"
   ]
  },
  {
   "cell_type": "code",
   "execution_count": 105,
   "metadata": {},
   "outputs": [
    {
     "name": "stdout",
     "output_type": "stream",
     "text": [
      "[19 19]\n",
      "(10, 19, 19, 5, 15)\n"
     ]
    }
   ],
   "source": [
    "num_stage = 1\n",
    "bbox_per_grid = 5\n",
    "num_classes = 10\n",
    "bs = 10\n",
    "image_size = image_size = np.array((608, 608), dtype='int32')\n",
    "\n",
    "\n",
    "grid_size = [image_size // [8, 16, 32][-(s+1)] for s in range(num_stage)]\n",
    "Y_true = [np.zeros((bs, grid_size[-(s+1)][0], grid_size[-(s+1)][1], bbox_per_grid, 5 + num_classes), dtype='float32') for s in\n",
    "          range(num_stage)]\n",
    "\n",
    "\n",
    "for x in grid_size:\n",
    "    print(x)\n",
    "\n",
    "for y in Y_true:\n",
    "    print(y.shape)"
   ]
  },
  {
   "cell_type": "code",
   "execution_count": 106,
   "metadata": {},
   "outputs": [
    {
     "name": "stdout",
     "output_type": "stream",
     "text": [
      "[[0, 1, 2, 3, 4]]\n"
     ]
    }
   ],
   "source": [
    "mask = []\n",
    "s = 0\n",
    "for i in range(num_stage):\n",
    "  mask_stage = []\n",
    "  for j in range(bbox_per_grid):\n",
    "    s = s + j\n",
    "    mask_stage.append(s)\n",
    "  mask.append(mask_stage)\n",
    "\n",
    "print(mask)"
   ]
  },
  {
   "cell_type": "code",
   "execution_count": null,
   "metadata": {},
   "outputs": [],
   "source": []
  }
 ],
 "metadata": {
  "language_info": {
   "name": "python"
  },
  "orig_nbformat": 4
 },
 "nbformat": 4,
 "nbformat_minor": 2
}
